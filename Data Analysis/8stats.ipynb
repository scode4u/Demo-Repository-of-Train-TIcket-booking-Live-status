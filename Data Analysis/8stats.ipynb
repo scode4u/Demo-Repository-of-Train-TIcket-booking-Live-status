{
 "cells": [
  {
   "cell_type": "code",
   "execution_count": 77,
   "metadata": {},
   "outputs": [],
   "source": [
    "import numpy as np\n",
    "import matplotlib.pyplot as plt\n",
    "%matplotlib inline"
   ]
  },
  {
   "cell_type": "code",
   "execution_count": 78,
   "metadata": {},
   "outputs": [],
   "source": [
    "dataset = [215,23,34,67,45,89,67,206,78,90,45,43,21,65,72,200,41,62,83,45,35,14,37,68,49,93,83,74,20]"
   ]
  },
  {
   "cell_type": "code",
   "execution_count": 79,
   "metadata": {},
   "outputs": [
    {
     "name": "stdout",
     "output_type": "stream",
     "text": [
      "71.17241379310344 51.174528258201505\n"
     ]
    },
    {
     "data": {
      "text/plain": [
       "(array([5., 8., 7., 6., 0., 0., 0., 0., 0., 3.]),\n",
       " array([ 14. ,  34.1,  54.2,  74.3,  94.4, 114.5, 134.6, 154.7, 174.8,\n",
       "        194.9, 215. ]),\n",
       " <BarContainer object of 10 artists>)"
      ]
     },
     "execution_count": 79,
     "metadata": {},
     "output_type": "execute_result"
    },
    {
     "data": {
      "image/png": "[encoded data removed]",
      "text/plain": [
       "<Figure size 640x480 with 1 Axes>"
      ]
     },
     "metadata": {},
     "output_type": "display_data"
    }
   ],
   "source": [
    "mean  = np.mean(dataset)\n",
    "std = np.std(dataset)\n",
    "print(mean, std)\n",
    "plt.hist(dataset) # provide the hint to find out the outliers"
   ]
  },
  {
   "cell_type": "code",
   "execution_count": 80,
   "metadata": {},
   "outputs": [
    {
     "name": "stdout",
     "output_type": "stream",
     "text": [
      "[215, 206, 200]\n"
     ]
    }
   ],
   "source": [
    "# Z score\n",
    "outliers = []\n",
    "def detect_outliers(data):\n",
    "    threshold = 2\n",
    "    mean = np.mean(data)\n",
    "    std = np.std(data)\n",
    "\n",
    "    for i in data:\n",
    "        z_score = (i-mean) / std                        # z-score formula \n",
    "        if np.abs(z_score) > threshold:\n",
    "            outliers.append(i)\n",
    "    return outliers\n",
    "\n",
    "print(detect_outliers(dataset)) "
   ]
  },
  {
   "cell_type": "code",
   "execution_count": 81,
   "metadata": {},
   "outputs": [],
   "source": [
    "# IQR \n",
    "#  sort the data\n",
    "# Q1 (25%)\n",
    "# Q3 (75%)\n",
    "# IQR (Q3 - Q1)\n",
    "# find the lower fence (Q1 - 1.5(iqr))\n",
    "# find the higher fence (Q3 + 1.5(iqr))\n"
   ]
  },
  {
   "cell_type": "code",
   "execution_count": 82,
   "metadata": {},
   "outputs": [
    {
     "data": {
      "text/plain": [
       "[14,\n",
       " 20,\n",
       " 21,\n",
       " 23,\n",
       " 34,\n",
       " 35,\n",
       " 37,\n",
       " 41,\n",
       " 43,\n",
       " 45,\n",
       " 45,\n",
       " 45,\n",
       " 49,\n",
       " 62,\n",
       " 65,\n",
       " 67,\n",
       " 67,\n",
       " 68,\n",
       " 72,\n",
       " 74,\n",
       " 78,\n",
       " 83,\n",
       " 83,\n",
       " 89,\n",
       " 90,\n",
       " 93,\n",
       " 200,\n",
       " 206,\n",
       " 215]"
      ]
     },
     "execution_count": 82,
     "metadata": {},
     "output_type": "execute_result"
    }
   ],
   "source": [
    "dataset  = sorted(dataset)\n",
    "dataset                         # sort the dataset"
   ]
  },
  {
   "cell_type": "code",
   "execution_count": 83,
   "metadata": {},
   "outputs": [
    {
     "data": {
      "text/plain": [
       "(np.float64(41.0), np.float64(83.0))"
      ]
     },
     "execution_count": 83,
     "metadata": {},
     "output_type": "execute_result"
    }
   ],
   "source": [
    "q1, q3 = np.percentile(dataset,[25,75])\n",
    "q1,q3"
   ]
  },
  {
   "cell_type": "code",
   "execution_count": 84,
   "metadata": {},
   "outputs": [
    {
     "data": {
      "text/plain": [
       "np.float64(42.0)"
      ]
     },
     "execution_count": 84,
     "metadata": {},
     "output_type": "execute_result"
    }
   ],
   "source": [
    "iqr = (q3 - q1)\n",
    "iqr"
   ]
  },
  {
   "cell_type": "code",
   "execution_count": 85,
   "metadata": {},
   "outputs": [
    {
     "data": {
      "text/plain": [
       "np.float64(-22.0)"
      ]
     },
     "execution_count": 85,
     "metadata": {},
     "output_type": "execute_result"
    }
   ],
   "source": [
    "lf = q1 - (1.5* iqr)\n",
    "lf                          # the whole point is that, ki iske neeche ki saari value outliers ke jese treat kiye jayengi"
   ]
  },
  {
   "cell_type": "code",
   "execution_count": 86,
   "metadata": {},
   "outputs": [
    {
     "data": {
      "text/plain": [
       "np.float64(146.0)"
      ]
     },
     "execution_count": 86,
     "metadata": {},
     "output_type": "execute_result"
    }
   ],
   "source": [
    "hf = q3 + (1.5 * iqr)\n",
    "hf                          # the whole point is that, isse uparki value outliers ki tarah treat ki jayengi "
   ]
  },
  {
   "cell_type": "code",
   "execution_count": 87,
   "metadata": {},
   "outputs": [
    {
     "name": "stdout",
     "output_type": "stream",
     "text": [
      "[200, 206, 215]\n"
     ]
    }
   ],
   "source": [
    "real_outliers = []\n",
    "for i in dataset:\n",
    "    if i < (-22) or i > (146):\n",
    "        real_outliers.append(i)\n",
    "print(real_outliers)"
   ]
  },
  {
   "cell_type": "code",
   "execution_count": null,
   "metadata": {},
   "outputs": [],
   "source": [
    "            # Now adding the seaborn liberary for representation \n",
    "import seaborn as sns"
   ]
  },
  {
   "cell_type": "code",
   "execution_count": 90,
   "metadata": {},
   "outputs": [
    {
     "data": {
      "text/plain": [
       "<Axes: >"
      ]
     },
     "execution_count": 90,
     "metadata": {},
     "output_type": "execute_result"
    },
    {
     "data": {
      "image/png": "[encoded data removed]",
      "text/plain": [
       "<Figure size 640x480 with 1 Axes>"
      ]
     },
     "metadata": {},
     "output_type": "display_data"
    }
   ],
   "source": [
    "# present the boxplot using seaborn\n",
    "\n",
    "sns.boxplot(dataset)\n",
    "\n",
    "\n",
    "#  the top 3 points are consider as outliers \n",
    "# maximum , q3 , median, q1 , minimum"
   ]
  },
  {
   "cell_type": "code",
   "execution_count": null,
   "metadata": {},
   "outputs": [],
   "source": []
  }
 ],
 "metadata": {
  "kernelspec": {
   "display_name": "Python 3",
   "language": "python",
   "name": "python3"
  },
  "language_info": {
   "codemirror_mode": {
    "name": "ipython",
    "version": 3
   },
   "file_extension": ".py",
   "mimetype": "text/x-python",
   "name": "python",
   "nbconvert_exporter": "python",
   "pygments_lexer": "ipython3",
   "version": "3.12.4"
  }
 },
 "nbformat": 4,
 "nbformat_minor": 2
}
