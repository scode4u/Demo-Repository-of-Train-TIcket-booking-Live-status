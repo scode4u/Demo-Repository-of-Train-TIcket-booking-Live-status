{
 "cells": [
  {
   "cell_type": "code",
   "execution_count": 4,
   "metadata": {},
   "outputs": [],
   "source": [
    "import pandas as pd # import the liberary \n"
   ]
  },
  {
   "cell_type": "code",
   "execution_count": 26,
   "metadata": {},
   "outputs": [
    {
     "name": "stdout",
     "output_type": "stream",
     "text": [
      "a    1.0\n",
      "s    2.0\n",
      "d    3.0\n",
      "f    4.0\n",
      "g    5.0\n",
      "h    6.0\n",
      "j    7.0\n",
      "Name: Suryansh Singh, dtype: float64\n",
      "4.0\n",
      "<class 'pandas.core.series.Series'>\n"
     ]
    }
   ],
   "source": [
    "x = [1,2,3,4,5,6,7]\n",
    "\n",
    "var = pd.Series(x,index=['a','s','d','f','g','h','j'], name='Suryansh Singh', dtype=float)\n",
    "print(var)\n",
    "print(var['f'])\n",
    "print(type(var))"
   ]
  },
  {
   "cell_type": "code",
   "execution_count": 29,
   "metadata": {},
   "outputs": [
    {
     "name": "stdout",
     "output_type": "stream",
     "text": [
      "Name       [R, C, C++, Java]\n",
      "Year            [4, 1, 2, 3]\n",
      "Popluar         [1, 4, 3, 2]\n",
      "dtype: object\n",
      "<class 'pandas.core.series.Series'>\n"
     ]
    }
   ],
   "source": [
    "dic = {'Name':[\"R\",'C','C++','Java'],'Year':[4,1,2,3],'Popluar':[1,4,3,2]}\n",
    "\n",
    "var1 = pd.Series(dic)\n",
    "print((var1))\n",
    "print(type(var1))"
   ]
  },
  {
   "cell_type": "code",
   "execution_count": null,
   "metadata": {},
   "outputs": [
    {
     "name": "stdout",
     "output_type": "stream",
     "text": [
      "1    12\n",
      "2    12\n",
      "3    12\n",
      "4    12\n",
      "5    12\n",
      "6    12\n",
      "7    12\n",
      "8    12\n",
      "dtype: int64\n"
     ]
    }
   ],
   "source": [
    "s =pd.Series(12,index=[1,2,3,4,5,6,7,8])\n",
    "print(s)"
   ]
  },
  {
   "cell_type": "code",
   "execution_count": 34,
   "metadata": {},
   "outputs": [
    {
     "name": "stdout",
     "output_type": "stream",
     "text": [
      "1    242.0\n",
      "2    242.0\n",
      "3    242.0\n",
      "5      NaN\n",
      "dtype: float64\n"
     ]
    }
   ],
   "source": [
    "s1 = pd.Series(121,index=[1,2,3,5])\n",
    "s2 = pd.Series(121,index=[1,2,3])\n",
    "print(s1 + s2)"
   ]
  },
  {
   "cell_type": "markdown",
   "metadata": {},
   "source": [
    "DATAFRAME"
   ]
  },
  {
   "cell_type": "code",
   "execution_count": null,
   "metadata": {},
   "outputs": [],
   "source": []
  },
  {
   "cell_type": "code",
   "execution_count": null,
   "metadata": {},
   "outputs": [],
   "source": [
    "data = [1,2,3,4,5,6,7,8,9,10,11,12,13,14,15,16,17,18,19,20]\n",
    "\n",
    "variable = pd.DataFrame(data)\n",
    "\n",
    "print(variable)"
   ]
  },
  {
   "cell_type": "code",
   "execution_count": null,
   "metadata": {},
   "outputs": [],
   "source": []
  },
  {
   "cell_type": "code",
   "execution_count": 40,
   "metadata": {},
   "outputs": [
    {
     "name": "stdout",
     "output_type": "stream",
     "text": [
      "   Name  Year  Popluar\n",
      "0     R     4        1\n",
      "1     C     1        4\n",
      "2   C++     2        3\n",
      "3  Java     3        2\n",
      "<class 'pandas.core.frame.DataFrame'>\n"
     ]
    }
   ],
   "source": [
    "dic2 = {'Name':[\"R\",'C','C++','Java'],'Year':[4,1,2,3],'Popluar':[1,4,3,2]}\n",
    "\n",
    "dict2 = pd.DataFrame(dic2)\n",
    "print(dict2)\n",
    "print(type(dict2))"
   ]
  }
 ],
 "metadata": {
  "kernelspec": {
   "display_name": "Python 3",
   "language": "python",
   "name": "python3"
  },
  "language_info": {
   "codemirror_mode": {
    "name": "ipython",
    "version": 3
   },
   "file_extension": ".py",
   "mimetype": "text/x-python",
   "name": "python",
   "nbconvert_exporter": "python",
   "pygments_lexer": "ipython3",
   "version": "3.12.4"
  }
 },
 "nbformat": 4,
 "nbformat_minor": 2
}
